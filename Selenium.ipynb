{
 "cells": [
  {
   "cell_type": "code",
   "execution_count": 2,
   "id": "92a53665-a8a7-45a1-8b98-37d16108bcfa",
   "metadata": {},
   "outputs": [],
   "source": [
    "from selenium import webdriver \n",
    "from selenium.webdriver.common.by import By\n",
    "import time  \n",
    "from selenium.webdriver.common.keys import Keys\n",
    "from selenium.webdriver.support.ui import Select"
   ]
  },
  {
   "cell_type": "code",
   "execution_count": 3,
   "id": "b2468d0e-8faf-449d-836e-0c38cd9d4abf",
   "metadata": {},
   "outputs": [
    {
     "name": "stdout",
     "output_type": "stream",
     "text": [
      "Connected\n"
     ]
    }
   ],
   "source": [
    "driver = webdriver.Chrome()  \n",
    "\n",
    "#maximize the window size  \n",
    "driver.maximize_window()  \n",
    "#navigate to the url  \n",
    "driver.get(\"http://informacoesbmp.aneel.gov.br/ConsultarBMPAberto.aspx\")  \n",
    "print('Connected')\n",
    "\n",
    "#click todas empresas  \n",
    "driver.find_element(By.XPATH,'/html/body/form/div[3]/div[5]/div[3]/div[1]/fieldset/table/tbody/tr[3]/td[2]/input').click()\n",
    "\n",
    "#click Geração\n",
    "driver.find_element(By.XPATH,'/html/body/form/div[3]/div[5]/div[3]/div[1]/fieldset/table/tbody/tr[4]/td[2]/input[3]').click()\n",
    "\n",
    "#choose dates\n",
    "driver.find_element(By.XPATH,\"//input[@id='Conteudo_txtDataInicioPesquisa']\").clear()\n",
    "driver.find_element(By.XPATH,\"//input[@id='Conteudo_txtDataInicioPesquisa']\").click()\n",
    "driver.find_element(By.XPATH,\"//input[@id='Conteudo_txtDataInicioPesquisa']\").send_keys(\"012020\")\n",
    "driver.find_element(By.XPATH,\"//input[@id='Conteudo_txtDataFimPesquisa']\").clear()\n",
    "driver.find_element(By.XPATH,\"//input[@id='Conteudo_txtDataFimPesquisa']\").click()\n",
    "driver.find_element(By.XPATH,\"//input[@id='Conteudo_txtDataFimPesquisa']\").send_keys(\"012020\")\n",
    "\n",
    "#clicks Confirmar\n",
    "driver.find_element(By.XPATH,'/html/body/form/div[3]/div[5]/div[3]/div[1]/div/input[1]').click()\n",
    "time.sleep(3)  \n",
    "\n",
    "#clicks all page options\n",
    "driver.find_element(By.XPATH,'/html/body/form/div[3]/div[5]/div[3]/div[2]/div[2]/table/tbody/tr[1]/th[1]/span/input').click()\n",
    "\n",
    "#clicks Gerar toodos\n",
    "driver.find_element(By.XPATH,'/html/body/form/div[3]/div[5]/div[3]/div[2]/div[1]/table/tbody/tr/td/input').click()\n",
    "time.sleep(3)  \n",
    "\n",
    "#clicks Confirma on the pop-up\n",
    "driver.find_element(By.XPATH,'/html/body/div[4]/div[2]/div[3]/input[1]').click()"
   ]
  },
  {
   "cell_type": "code",
   "execution_count": 19,
   "id": "29ba3466-cf44-46db-a518-2062150b05cd",
   "metadata": {},
   "outputs": [
    {
     "name": "stdout",
     "output_type": "stream",
     "text": [
      "Connected\n"
     ]
    },
    {
     "ename": "ElementNotInteractableException",
     "evalue": "Message: element not interactable\n  (Session info: chrome=113.0.5672.93)\nStacktrace:\nBacktrace:\n\tGetHandleVerifier [0x00FC8893+48451]\n\t(No symbol) [0x00F5B8A1]\n\t(No symbol) [0x00E64F20]\n\t(No symbol) [0x00E913A6]\n\t(No symbol) [0x00E89AAC]\n\t(No symbol) [0x00EAA2BC]\n\t(No symbol) [0x00E89586]\n\t(No symbol) [0x00EAA614]\n\t(No symbol) [0x00EBC482]\n\t(No symbol) [0x00EAA0B6]\n\t(No symbol) [0x00E87E08]\n\t(No symbol) [0x00E88F2D]\n\tGetHandleVerifier [0x01228E3A+2540266]\n\tGetHandleVerifier [0x01268959+2801161]\n\tGetHandleVerifier [0x0126295C+2776588]\n\tGetHandleVerifier [0x01052280+612144]\n\t(No symbol) [0x00F64F6C]\n\t(No symbol) [0x00F611D8]\n\t(No symbol) [0x00F612BB]\n\t(No symbol) [0x00F54857]\n\tBaseThreadInitThunk [0x76767D59+25]\n\tRtlInitializeExceptionChain [0x772AB74B+107]\n\tRtlClearBits [0x772AB6CF+191]\n",
     "output_type": "error",
     "traceback": [
      "\u001b[1;31m---------------------------------------------------------------------------\u001b[0m",
      "\u001b[1;31mElementNotInteractableException\u001b[0m           Traceback (most recent call last)",
      "Cell \u001b[1;32mIn[19], line 11\u001b[0m\n\u001b[0;32m      9\u001b[0m \u001b[38;5;66;03m#clicks Table\u001b[39;00m\n\u001b[0;32m     10\u001b[0m el \u001b[38;5;241m=\u001b[39m driver\u001b[38;5;241m.\u001b[39mfind_element(By\u001b[38;5;241m.\u001b[39mXPATH, \u001b[38;5;124m'\u001b[39m\u001b[38;5;124m/html/body/form/div[3]/div[5]/div[3]/div[1]/fieldset/table/tbody/tr[1]/td[2]/select\u001b[39m\u001b[38;5;124m'\u001b[39m)\n\u001b[1;32m---> 11\u001b[0m \u001b[43mel\u001b[49m\u001b[38;5;241;43m.\u001b[39;49m\u001b[43mclick\u001b[49m\u001b[43m(\u001b[49m\u001b[43m)\u001b[49m\n\u001b[0;32m     12\u001b[0m time\u001b[38;5;241m.\u001b[39msleep(\u001b[38;5;241m3\u001b[39m)  \n\u001b[0;32m     14\u001b[0m el\u001b[38;5;241m.\u001b[39msend_keys(\u001b[38;5;124m'\u001b[39m\u001b[38;5;124mAbranjo Geração de Energia S.A.\u001b[39m\u001b[38;5;124m'\u001b[39m)\n",
      "File \u001b[1;32m~\\anaconda3\\lib\\site-packages\\selenium\\webdriver\\remote\\webelement.py:94\u001b[0m, in \u001b[0;36mWebElement.click\u001b[1;34m(self)\u001b[0m\n\u001b[0;32m     92\u001b[0m \u001b[38;5;28;01mdef\u001b[39;00m \u001b[38;5;21mclick\u001b[39m(\u001b[38;5;28mself\u001b[39m) \u001b[38;5;241m-\u001b[39m\u001b[38;5;241m>\u001b[39m \u001b[38;5;28;01mNone\u001b[39;00m:\n\u001b[0;32m     93\u001b[0m     \u001b[38;5;124;03m\"\"\"Clicks the element.\"\"\"\u001b[39;00m\n\u001b[1;32m---> 94\u001b[0m     \u001b[38;5;28;43mself\u001b[39;49m\u001b[38;5;241;43m.\u001b[39;49m\u001b[43m_execute\u001b[49m\u001b[43m(\u001b[49m\u001b[43mCommand\u001b[49m\u001b[38;5;241;43m.\u001b[39;49m\u001b[43mCLICK_ELEMENT\u001b[49m\u001b[43m)\u001b[49m\n",
      "File \u001b[1;32m~\\anaconda3\\lib\\site-packages\\selenium\\webdriver\\remote\\webelement.py:403\u001b[0m, in \u001b[0;36mWebElement._execute\u001b[1;34m(self, command, params)\u001b[0m\n\u001b[0;32m    401\u001b[0m     params \u001b[38;5;241m=\u001b[39m {}\n\u001b[0;32m    402\u001b[0m params[\u001b[38;5;124m\"\u001b[39m\u001b[38;5;124mid\u001b[39m\u001b[38;5;124m\"\u001b[39m] \u001b[38;5;241m=\u001b[39m \u001b[38;5;28mself\u001b[39m\u001b[38;5;241m.\u001b[39m_id\n\u001b[1;32m--> 403\u001b[0m \u001b[38;5;28;01mreturn\u001b[39;00m \u001b[38;5;28;43mself\u001b[39;49m\u001b[38;5;241;43m.\u001b[39;49m\u001b[43m_parent\u001b[49m\u001b[38;5;241;43m.\u001b[39;49m\u001b[43mexecute\u001b[49m\u001b[43m(\u001b[49m\u001b[43mcommand\u001b[49m\u001b[43m,\u001b[49m\u001b[43m \u001b[49m\u001b[43mparams\u001b[49m\u001b[43m)\u001b[49m\n",
      "File \u001b[1;32m~\\anaconda3\\lib\\site-packages\\selenium\\webdriver\\remote\\webdriver.py:440\u001b[0m, in \u001b[0;36mWebDriver.execute\u001b[1;34m(self, driver_command, params)\u001b[0m\n\u001b[0;32m    438\u001b[0m response \u001b[38;5;241m=\u001b[39m \u001b[38;5;28mself\u001b[39m\u001b[38;5;241m.\u001b[39mcommand_executor\u001b[38;5;241m.\u001b[39mexecute(driver_command, params)\n\u001b[0;32m    439\u001b[0m \u001b[38;5;28;01mif\u001b[39;00m response:\n\u001b[1;32m--> 440\u001b[0m     \u001b[38;5;28;43mself\u001b[39;49m\u001b[38;5;241;43m.\u001b[39;49m\u001b[43merror_handler\u001b[49m\u001b[38;5;241;43m.\u001b[39;49m\u001b[43mcheck_response\u001b[49m\u001b[43m(\u001b[49m\u001b[43mresponse\u001b[49m\u001b[43m)\u001b[49m\n\u001b[0;32m    441\u001b[0m     response[\u001b[38;5;124m\"\u001b[39m\u001b[38;5;124mvalue\u001b[39m\u001b[38;5;124m\"\u001b[39m] \u001b[38;5;241m=\u001b[39m \u001b[38;5;28mself\u001b[39m\u001b[38;5;241m.\u001b[39m_unwrap_value(response\u001b[38;5;241m.\u001b[39mget(\u001b[38;5;124m\"\u001b[39m\u001b[38;5;124mvalue\u001b[39m\u001b[38;5;124m\"\u001b[39m, \u001b[38;5;28;01mNone\u001b[39;00m))\n\u001b[0;32m    442\u001b[0m     \u001b[38;5;28;01mreturn\u001b[39;00m response\n",
      "File \u001b[1;32m~\\anaconda3\\lib\\site-packages\\selenium\\webdriver\\remote\\errorhandler.py:245\u001b[0m, in \u001b[0;36mErrorHandler.check_response\u001b[1;34m(self, response)\u001b[0m\n\u001b[0;32m    243\u001b[0m         alert_text \u001b[38;5;241m=\u001b[39m value[\u001b[38;5;124m\"\u001b[39m\u001b[38;5;124malert\u001b[39m\u001b[38;5;124m\"\u001b[39m]\u001b[38;5;241m.\u001b[39mget(\u001b[38;5;124m\"\u001b[39m\u001b[38;5;124mtext\u001b[39m\u001b[38;5;124m\"\u001b[39m)\n\u001b[0;32m    244\u001b[0m     \u001b[38;5;28;01mraise\u001b[39;00m exception_class(message, screen, stacktrace, alert_text)  \u001b[38;5;66;03m# type: ignore[call-arg]  # mypy is not smart enough here\u001b[39;00m\n\u001b[1;32m--> 245\u001b[0m \u001b[38;5;28;01mraise\u001b[39;00m exception_class(message, screen, stacktrace)\n",
      "\u001b[1;31mElementNotInteractableException\u001b[0m: Message: element not interactable\n  (Session info: chrome=113.0.5672.93)\nStacktrace:\nBacktrace:\n\tGetHandleVerifier [0x00FC8893+48451]\n\t(No symbol) [0x00F5B8A1]\n\t(No symbol) [0x00E64F20]\n\t(No symbol) [0x00E913A6]\n\t(No symbol) [0x00E89AAC]\n\t(No symbol) [0x00EAA2BC]\n\t(No symbol) [0x00E89586]\n\t(No symbol) [0x00EAA614]\n\t(No symbol) [0x00EBC482]\n\t(No symbol) [0x00EAA0B6]\n\t(No symbol) [0x00E87E08]\n\t(No symbol) [0x00E88F2D]\n\tGetHandleVerifier [0x01228E3A+2540266]\n\tGetHandleVerifier [0x01268959+2801161]\n\tGetHandleVerifier [0x0126295C+2776588]\n\tGetHandleVerifier [0x01052280+612144]\n\t(No symbol) [0x00F64F6C]\n\t(No symbol) [0x00F611D8]\n\t(No symbol) [0x00F612BB]\n\t(No symbol) [0x00F54857]\n\tBaseThreadInitThunk [0x76767D59+25]\n\tRtlInitializeExceptionChain [0x772AB74B+107]\n\tRtlClearBits [0x772AB6CF+191]\n"
     ]
    }
   ],
   "source": [
    "driver = webdriver.Chrome()  \n",
    "\n",
    "#maximize the window size  \n",
    "driver.maximize_window()  \n",
    "#navigate to the url  \n",
    "driver.get(\"http://informacoesbmp.aneel.gov.br/ConsultarBMPAberto.aspx\")  \n",
    "print('Connected')\n",
    "\n",
    "#clicks Table\n",
    "el = driver.find_element(By.XPATH, '/html/body/form/div[3]/div[5]/div[3]/div[1]/fieldset/table/tbody/tr[1]/td[2]/select')\n",
    "el.click()\n",
    "time.sleep(3)  \n",
    "\n",
    "el.send_keys('Abranjo Geração de Energia S.A.')\n",
    "time.sleep(3)  \n",
    "\n",
    "el.send_keys(Keys.ENTER)\n",
    "\n",
    "#choose dates\n",
    "driver.find_element(By.XPATH,\"//input[@id='Conteudo_txtDataInicioPesquisa']\").clear()\n",
    "driver.find_element(By.XPATH,\"//input[@id='Conteudo_txtDataInicioPesquisa']\").click()\n",
    "driver.find_element(By.XPATH,\"//input[@id='Conteudo_txtDataInicioPesquisa']\").send_keys(\"012020\")\n",
    "driver.find_element(By.XPATH,\"//input[@id='Conteudo_txtDataFimPesquisa']\").clear()\n",
    "driver.find_element(By.XPATH,\"//input[@id='Conteudo_txtDataFimPesquisa']\").click()\n",
    "driver.find_element(By.XPATH,\"//input[@id='Conteudo_txtDataFimPesquisa']\").send_keys(\"012020\")\n",
    "\n",
    "#clicks Confirmar\n",
    "driver.find_element(By.XPATH,'/html/body/form/div[3]/div[5]/div[3]/div[1]/div/input[1]').click()\n",
    "time.sleep(3)  \n",
    "\n",
    "#clicks all page options\n",
    "driver.find_element(By.XPATH,'/html/body/form/div[3]/div[5]/div[3]/div[2]/div[2]/table/tbody/tr[1]/th[1]/span/input').click()\n",
    "\n",
    "#clicks Gerar toodos\n",
    "driver.find_element(By.XPATH,'/html/body/form/div[3]/div[5]/div[3]/div[2]/div[1]/table/tbody/tr/td/input').click()\n",
    "time.sleep(3)  \n",
    "\n",
    "#clicks Confirma on the pop-up\n",
    "driver.find_element(By.XPATH,'/html/body/div[4]/div[2]/div[3]/input[1]').click()"
   ]
  },
  {
   "cell_type": "code",
   "execution_count": null,
   "id": "b4ab6392-aa4a-4d55-bd62-1e134a54d689",
   "metadata": {},
   "outputs": [],
   "source": []
  }
 ],
 "metadata": {
  "kernelspec": {
   "display_name": "Python 3 (ipykernel)",
   "language": "python",
   "name": "python3"
  },
  "language_info": {
   "codemirror_mode": {
    "name": "ipython",
    "version": 3
   },
   "file_extension": ".py",
   "mimetype": "text/x-python",
   "name": "python",
   "nbconvert_exporter": "python",
   "pygments_lexer": "ipython3",
   "version": "3.10.9"
  }
 },
 "nbformat": 4,
 "nbformat_minor": 5
}
