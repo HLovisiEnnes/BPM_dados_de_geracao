{
 "cells": [
  {
   "cell_type": "code",
   "execution_count": 9,
   "id": "92a53665-a8a7-45a1-8b98-37d16108bcfa",
   "metadata": {},
   "outputs": [],
   "source": [
    "from selenium import webdriver \n",
    "from selenium.webdriver.common.by import By\n",
    "import time  \n",
    "from selenium.webdriver.common.keys import Keys  "
   ]
  },
  {
   "cell_type": "code",
   "execution_count": 11,
   "id": "b2468d0e-8faf-449d-836e-0c38cd9d4abf",
   "metadata": {},
   "outputs": [
    {
     "name": "stdout",
     "output_type": "stream",
     "text": [
      "Connected\n"
     ]
    }
   ],
   "source": [
    "driver = webdriver.Chrome()  \n",
    "\n",
    "#maximize the window size  \n",
    "driver.maximize_window()  \n",
    "#navigate to the url  \n",
    "driver.get(\"http://informacoesbmp.aneel.gov.br/ConsultarBMPAberto.aspx\")  \n",
    "print('Connected')\n",
    "\n",
    "#click todas empresas  \n",
    "driver.find_element(By.XPATH,'/html/body/form/div[3]/div[5]/div[3]/div[1]/fieldset/table/tbody/tr[3]/td[2]/input').click()\n",
    "\n",
    "#click Geração\n",
    "driver.find_element(By.XPATH,'/html/body/form/div[3]/div[5]/div[3]/div[1]/fieldset/table/tbody/tr[4]/td[2]/input[3]').click()\n",
    "\n",
    "#choose dates\n",
    "driver.find_element(By.XPATH,\"//input[@id='Conteudo_txtDataInicioPesquisa']\").clear()\n",
    "driver.find_element(By.XPATH,\"//input[@id='Conteudo_txtDataInicioPesquisa']\").click()\n",
    "driver.find_element(By.XPATH,\"//input[@id='Conteudo_txtDataInicioPesquisa']\").send_keys(\"012020\")\n",
    "driver.find_element(By.XPATH,\"//input[@id='Conteudo_txtDataFimPesquisa']\").clear()\n",
    "driver.find_element(By.XPATH,\"//input[@id='Conteudo_txtDataFimPesquisa']\").click()\n",
    "driver.find_element(By.XPATH,\"//input[@id='Conteudo_txtDataFimPesquisa']\").send_keys(\"012020\")\n",
    "\n",
    "#clicks Confirmar\n",
    "driver.find_element(By.XPATH,'/html/body/form/div[3]/div[5]/div[3]/div[1]/div/input[1]').click()\n",
    "time.sleep(3)  \n",
    "\n",
    "#clicks all page options\n",
    "driver.find_element(By.XPATH,'/html/body/form/div[3]/div[5]/div[3]/div[2]/div[2]/table/tbody/tr[1]/th[1]/span/input').click()\n",
    "\n",
    "#clicks Gerar toodos\n",
    "driver.find_element(By.XPATH,'/html/body/form/div[3]/div[5]/div[3]/div[2]/div[1]/table/tbody/tr/td/input').click()\n",
    "time.sleep(3)  \n",
    "\n",
    "#clicks Confirma on the pop-up\n",
    "driver.find_element(By.XPATH,'/html/body/div[4]/div[2]/div[3]/input[1]').click()"
   ]
  },
  {
   "cell_type": "code",
   "execution_count": null,
   "id": "29ba3466-cf44-46db-a518-2062150b05cd",
   "metadata": {},
   "outputs": [],
   "source": []
  },
  {
   "cell_type": "code",
   "execution_count": null,
   "id": "4c905d14-09d0-4a94-bfc4-a4006d465963",
   "metadata": {},
   "outputs": [],
   "source": []
  }
 ],
 "metadata": {
  "kernelspec": {
   "display_name": "Python 3 (ipykernel)",
   "language": "python",
   "name": "python3"
  },
  "language_info": {
   "codemirror_mode": {
    "name": "ipython",
    "version": 3
   },
   "file_extension": ".py",
   "mimetype": "text/x-python",
   "name": "python",
   "nbconvert_exporter": "python",
   "pygments_lexer": "ipython3",
   "version": "3.10.9"
  }
 },
 "nbformat": 4,
 "nbformat_minor": 5
}
