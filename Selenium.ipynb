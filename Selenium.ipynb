{
 "cells": [
  {
   "cell_type": "markdown",
   "id": "dbc8b13f-d487-4b1c-8f4b-2698f3f2598e",
   "metadata": {},
   "source": [
    "https://copyprogramming.com/howto/automate-filling-in-date-using-selenium\n",
    "https://www.google.com/search?q=filling+dates+selenium+python&sxsrf=APwXEdcBRzO0dUnjA7gfN7ZWXgh1EjGWMg%3A1683767549839&ei=_UBcZIjXMs6p5OUP2oaEqAE&oq=filling+dates+sele&gs_lcp=Cgxnd3Mtd2l6LXNlcnAQAxgAMgUIIRCgATIFCCEQoAEyBAghEBU6CggAEEcQ1gQQsAM6BAgjECc6BwgjEIoFECc6BwguEIoFECc6BwgAEIoFEEM6EQguEIAEELEDEIMBEMcBENEDOgsIABCABBCxAxCDAToNCAAQigUQsQMQgwEQQzoHCC4QigUQQzoLCAAQigUQsQMQgwE6BwgAEIAEEAo6CwguEIAEEMcBEK8BOgUILhCABDoFCAAQgAQ6BwguEIAEEAo6CggAEIAEEEYQ_wE6EAguEIAEEMcBEK8BENQCEAo6CAgAEIAEEMsBOgoIABCABBAKEMsBOggILhCABBDLAToGCAAQFhAeOggIABAWEB4QCjoICAAQFhAeEA86CggAEBYQHhAPEAo6DQgAEBYQHhAPEPEEEApKBAhBGABQhQZYyRhgxh5oA3ABeACAAakBiAGNFJIBBDAuMTiYAQCgAQHIAQjAAQE&sclient=gws-wiz-serp#fpstate=ive&vld=cid:97d3d664,vid:0_-e2kbhXZM"
   ]
  },
  {
   "cell_type": "code",
   "execution_count": 26,
   "id": "92a53665-a8a7-45a1-8b98-37d16108bcfa",
   "metadata": {},
   "outputs": [],
   "source": [
    "from selenium import webdriver \n",
    "from selenium.webdriver.common.by import By\n",
    "import time  \n",
    "from selenium.webdriver.common.keys import Keys  "
   ]
  },
  {
   "cell_type": "code",
   "execution_count": 42,
   "id": "b2468d0e-8faf-449d-836e-0c38cd9d4abf",
   "metadata": {},
   "outputs": [
    {
     "name": "stdout",
     "output_type": "stream",
     "text": [
      "Connected\n",
      "Click todas empresas\n",
      "Click geração\n",
      "Choose dates\n",
      "Click confirma\n"
     ]
    }
   ],
   "source": [
    "\n",
    "driver = webdriver.Chrome()  \n",
    "\n",
    "#maximize the window size  \n",
    "driver.maximize_window()  \n",
    "#navigate to the url  \n",
    "driver.get(\"http://informacoesbmp.aneel.gov.br/ConsultarBMPAberto.aspx\")  \n",
    "print('Connected')\n",
    "\n",
    "#click todas empresas  \n",
    "driver.find_element(By.XPATH,'/html/body/form/div[3]/div[5]/div[3]/div[1]/fieldset/table/tbody/tr[3]/td[2]/input').click()\n",
    "print('Click todas empresas')\n",
    "time.sleep(1)  \n",
    "\n",
    "#click Geração\n",
    "driver.find_element(By.XPATH,'/html/body/form/div[3]/div[5]/div[3]/div[1]/fieldset/table/tbody/tr[4]/td[2]/input[3]').click()\n",
    "print('Click geração')\n",
    "time.sleep(1)  \n",
    "\n",
    "#choose dates\n",
    "driver.find_element(By.XPATH,\"//input[@id='Conteudo_txtDataInicioPesquisa']\").send_keys('012020')\n",
    "time.sleep(1)  \n",
    "driver.find_element(By.XPATH,'/html/body/form/div[3]/div[5]/div[3]/div[1]/fieldset/table/tbody/tr[5]/td[2]/input[2]').send_keys(\"012020\") \n",
    "print('Choose dates')\n",
    "time.sleep(1)  \n",
    "\n",
    "driver.find_element(By.XPATH,'/html/body/form/div[3]/div[5]/div[3]/div[1]/div/input[1]').click()\n",
    "print('Click confirma')\n",
    "time.sleep(5)  \n"
   ]
  },
  {
   "cell_type": "code",
   "execution_count": 34,
   "id": "37725798-a09f-4daa-96ce-54ddf7732025",
   "metadata": {},
   "outputs": [
    {
     "data": {
      "text/plain": [
       "['__abstractmethods__',\n",
       " '__class__',\n",
       " '__delattr__',\n",
       " '__dict__',\n",
       " '__dir__',\n",
       " '__doc__',\n",
       " '__eq__',\n",
       " '__format__',\n",
       " '__ge__',\n",
       " '__getattribute__',\n",
       " '__gt__',\n",
       " '__hash__',\n",
       " '__init__',\n",
       " '__init_subclass__',\n",
       " '__le__',\n",
       " '__lt__',\n",
       " '__module__',\n",
       " '__ne__',\n",
       " '__new__',\n",
       " '__reduce__',\n",
       " '__reduce_ex__',\n",
       " '__repr__',\n",
       " '__setattr__',\n",
       " '__sizeof__',\n",
       " '__str__',\n",
       " '__subclasshook__',\n",
       " '__weakref__',\n",
       " '_abc_impl',\n",
       " '_execute',\n",
       " '_id',\n",
       " '_parent',\n",
       " '_upload',\n",
       " 'accessible_name',\n",
       " 'aria_role',\n",
       " 'clear',\n",
       " 'click',\n",
       " 'find_element',\n",
       " 'find_elements',\n",
       " 'get_attribute',\n",
       " 'get_dom_attribute',\n",
       " 'get_property',\n",
       " 'id',\n",
       " 'is_displayed',\n",
       " 'is_enabled',\n",
       " 'is_selected',\n",
       " 'location',\n",
       " 'location_once_scrolled_into_view',\n",
       " 'parent',\n",
       " 'rect',\n",
       " 'screenshot',\n",
       " 'screenshot_as_base64',\n",
       " 'screenshot_as_png',\n",
       " 'send_keys',\n",
       " 'shadow_root',\n",
       " 'size',\n",
       " 'submit',\n",
       " 'tag_name',\n",
       " 'text',\n",
       " 'value_of_css_property']"
      ]
     },
     "execution_count": 34,
     "metadata": {},
     "output_type": "execute_result"
    }
   ],
   "source": [
    "dir(driver.find_element(By.XPATH,\"//input[@id='Conteudo_txtDataInicioPesquisa']\"))"
   ]
  },
  {
   "cell_type": "code",
   "execution_count": 50,
   "id": "57b0de10-e15f-4073-b98a-bb48fcdb2f82",
   "metadata": {},
   "outputs": [
    {
     "data": {
      "text/plain": [
       "'Conteudo_txtDataInicioPesquisa'"
      ]
     },
     "execution_count": 50,
     "metadata": {},
     "output_type": "execute_result"
    }
   ],
   "source": [
    "driver.find_element(By.XPATH,\"//input[@id='Conteudo_txtDataInicioPesquisa']\").get_attribute('id')"
   ]
  },
  {
   "cell_type": "code",
   "execution_count": 49,
   "id": "77d258df-8f6e-41f1-8b08-0f4588c86000",
   "metadata": {},
   "outputs": [
    {
     "data": {
      "text/plain": [
       "''"
      ]
     },
     "execution_count": 49,
     "metadata": {},
     "output_type": "execute_result"
    }
   ],
   "source": [
    "driver.find_element(By.XPATH,\"//input[@id='Conteudo_txtDataInicioPesquisa']\").get_property('value')"
   ]
  },
  {
   "cell_type": "code",
   "execution_count": 58,
   "id": "76de18ec-c207-4d11-a5ee-c2163041f41c",
   "metadata": {},
   "outputs": [
    {
     "name": "stdout",
     "output_type": "stream",
     "text": [
      "Connected\n",
      "Click todas empresas\n",
      "Click geração\n",
      "Choose dates\n",
      "Click confirma\n"
     ]
    }
   ],
   "source": [
    "\n",
    "driver = webdriver.Chrome()  \n",
    "\n",
    "#maximize the window size  \n",
    "driver.maximize_window()  \n",
    "#navigate to the url  \n",
    "driver.get(\"http://informacoesbmp.aneel.gov.br/ConsultarBMPAberto.aspx\")  \n",
    "print('Connected')\n",
    "\n",
    "#click todas empresas  \n",
    "driver.find_element(By.XPATH,'/html/body/form/div[3]/div[5]/div[3]/div[1]/fieldset/table/tbody/tr[3]/td[2]/input').click()\n",
    "print('Click todas empresas')\n",
    "time.sleep(1)  \n",
    "\n",
    "#click Geração\n",
    "driver.find_element(By.XPATH,'/html/body/form/div[3]/div[5]/div[3]/div[1]/fieldset/table/tbody/tr[4]/td[2]/input[3]').click()\n",
    "print('Click geração')\n",
    "time.sleep(1)  \n",
    "\n",
    "#choose dates\n",
    "driver.find_element(By.XPATH,'/html/body/form/div[3]/div[5]/div[3]/div[1]/fieldset/table/tbody/tr[5]/td[2]/input[2]').send_keys(\"012020\") \n",
    "input_field = driver.find_element(By.XPATH,\"//input[@id='Conteudo_txtDataInicioPesquisa']\")\n",
    "driver.execute_script(\"arguments[0].setAttribute('value', '01/2020')\", input_field)\n",
    "\n",
    "time.sleep(1)  \n",
    "input_field = driver.find_element(By.XPATH,\"//input[@id='Conteudo_txtDataFimPesquisa']\")\n",
    "driver.execute_script(\"arguments[0].setAttribute('value', '01/2020')\", input_field)\n",
    "\n",
    "print('Choose dates')\n",
    "time.sleep(1)  \n",
    "\n",
    "driver.find_element(By.XPATH,'/html/body/form/div[3]/div[5]/div[3]/div[1]/div/input[1]').click()\n",
    "print('Click confirma')\n",
    "time.sleep(5)  \n"
   ]
  },
  {
   "cell_type": "code",
   "execution_count": null,
   "id": "29ba3466-cf44-46db-a518-2062150b05cd",
   "metadata": {},
   "outputs": [],
   "source": []
  },
  {
   "cell_type": "code",
   "execution_count": null,
   "id": "4c905d14-09d0-4a94-bfc4-a4006d465963",
   "metadata": {},
   "outputs": [],
   "source": []
  }
 ],
 "metadata": {
  "kernelspec": {
   "display_name": "Python 3 (ipykernel)",
   "language": "python",
   "name": "python3"
  },
  "language_info": {
   "codemirror_mode": {
    "name": "ipython",
    "version": 3
   },
   "file_extension": ".py",
   "mimetype": "text/x-python",
   "name": "python",
   "nbconvert_exporter": "python",
   "pygments_lexer": "ipython3",
   "version": "3.10.9"
  }
 },
 "nbformat": 4,
 "nbformat_minor": 5
}
