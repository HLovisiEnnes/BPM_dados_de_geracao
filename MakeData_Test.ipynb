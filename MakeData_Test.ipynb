{
 "cells": [
  {
   "cell_type": "code",
   "execution_count": 3,
   "id": "30d9e8ab-c1bf-4a04-968f-9cb3fb0f4f1a",
   "metadata": {},
   "outputs": [],
   "source": [
    "from bs4 import UnicodeDammit\n",
    "import codecs\n",
    "import webbrowser\n",
    "from bs4 import BeautifulSoup\n",
    "import time\n",
    "import pandas as pd\n",
    "import os"
   ]
  },
  {
   "cell_type": "code",
   "execution_count": 4,
   "id": "66a10132-a8df-493e-b230-dc975faa5a10",
   "metadata": {},
   "outputs": [
    {
     "data": {
      "text/plain": [
       "'iso-8859-1'"
      ]
     },
     "execution_count": 4,
     "metadata": {},
     "output_type": "execute_result"
    }
   ],
   "source": [
    "with open('RelatorioBMP_13052023_12.09.01_.xls', 'rb') as file:\n",
    "    content = file.read()\n",
    "\n",
    "suggestion = UnicodeDammit(content)\n",
    "suggestion.original_encoding"
   ]
  },
  {
   "cell_type": "code",
   "execution_count": 5,
   "id": "db2670c1-78f2-47df-a938-cad6a1b49480",
   "metadata": {},
   "outputs": [
    {
     "name": "stdout",
     "output_type": "stream",
     "text": [
      "0.0\n"
     ]
    }
   ],
   "source": [
    "start = time.time()\n",
    "file = codecs.open(\"RelatorioBMP_11052023_06.26.07_.xls\", \"r\", suggestion.original_encoding)\n",
    "end = time.time()\n",
    "print(end - start)"
   ]
  },
  {
   "cell_type": "code",
   "execution_count": 6,
   "id": "1a98d499-b17f-4774-98b3-02cb1cfada15",
   "metadata": {},
   "outputs": [
    {
     "name": "stdout",
     "output_type": "stream",
     "text": [
      "5.919155836105347\n"
     ]
    }
   ],
   "source": [
    "start = time.time()\n",
    "soup = BeautifulSoup(file, 'html.parser')\n",
    "end = time.time()\n",
    "print(end - start)"
   ]
  },
  {
   "cell_type": "code",
   "execution_count": 7,
   "id": "8ba7cbdb-9f6d-4fc9-9c82-783b3ae5ca5f",
   "metadata": {},
   "outputs": [],
   "source": [
    "tbs = soup.find_all(\"table\")"
   ]
  },
  {
   "cell_type": "code",
   "execution_count": 8,
   "id": "5ab71da9-7d32-4f1f-901d-f0ad5b0bc623",
   "metadata": {},
   "outputs": [
    {
     "data": {
      "text/plain": [
       "55.0"
      ]
     },
     "execution_count": 8,
     "metadata": {},
     "output_type": "execute_result"
    }
   ],
   "source": [
    "len(tbs)/3"
   ]
  },
  {
   "cell_type": "code",
   "execution_count": 9,
   "id": "59db3bc3-9002-4c98-9b0c-68c9019aec00",
   "metadata": {},
   "outputs": [
    {
     "data": {
      "text/plain": [
       "bs4.element.Tag"
      ]
     },
     "execution_count": 9,
     "metadata": {},
     "output_type": "execute_result"
    }
   ],
   "source": [
    "type(tbs[0])"
   ]
  },
  {
   "cell_type": "code",
   "execution_count": 30,
   "id": "5f709250-ff81-400d-97b2-bd7edbccb5f4",
   "metadata": {},
   "outputs": [
    {
     "data": {
      "text/plain": [
       "'01/2020'"
      ]
     },
     "execution_count": 30,
     "metadata": {},
     "output_type": "execute_result"
    }
   ],
   "source": [
    "str(tbs[1].find_all(\"td\")[5]).split('>')[1].split('<')[0]"
   ]
  },
  {
   "cell_type": "code",
   "execution_count": 11,
   "id": "b884cb57-60b6-4b5a-a775-7cdcf25a31b4",
   "metadata": {},
   "outputs": [
    {
     "name": "stdout",
     "output_type": "stream",
     "text": [
      "<td width=\"80%\">ZONA DA MATA GERAÇÃO S/A</td>\n"
     ]
    }
   ],
   "source": [
    "p_tag = tbs[1].find_all(\"td\")\n",
    "html = str(p_tag[1])\n",
    "print(html)"
   ]
  },
  {
   "cell_type": "code",
   "execution_count": 12,
   "id": "f4930257-9a19-4965-91ec-9509941143ab",
   "metadata": {},
   "outputs": [
    {
     "data": {
      "text/plain": [
       "'ZONA DA MATA GERAÇÃO S/A'"
      ]
     },
     "execution_count": 12,
     "metadata": {},
     "output_type": "execute_result"
    }
   ],
   "source": [
    "html.split('>')[1].split('<')[0]"
   ]
  },
  {
   "cell_type": "code",
   "execution_count": 13,
   "id": "8b8087d6-0ad4-4cfe-a035-fa53d1ac2a9f",
   "metadata": {},
   "outputs": [],
   "source": [
    "empresas = {}\n",
    "for i in range(0,int(len(tbs)/3)):\n",
    "    p_tag = tbs[3*i+1].find_all(\"td\")\n",
    "    html = str(p_tag[1])\n",
    "    empresas[(html.split('>')[1].split('<')[0])] = i"
   ]
  },
  {
   "cell_type": "code",
   "execution_count": 14,
   "id": "932084ba-ee7f-43c0-a4c3-3f739e66935b",
   "metadata": {},
   "outputs": [
    {
     "data": {
      "text/plain": [
       "{'ZONA DA MATA GERAÇÃO S/A': 0,\n",
       " 'USINA HIDRELÉTRICA ITAOCARA S.A.': 1,\n",
       " 'UHE São Simão Energia S.A.': 2,\n",
       " 'TIJOÁ PARTICIPAÇÕES E INVESTIMENTOS S.A.': 3,\n",
       " 'Tangará Energia S.A.': 4,\n",
       " 'Statkraft Energias Renováveis S.A.': 5,\n",
       " 'SOCIBE ENERGIA S.A.': 6,\n",
       " 'Serra do Facão Energia S.A.': 7,\n",
       " 'SE NARANDIBA S.A.': 8,\n",
       " 'São Roque Energética S.A.': 10,\n",
       " 'SÁ Carvalho S.A.': 11,\n",
       " 'Rosal Energia S.A.': 12,\n",
       " 'Roraima Energia S.A.': 14,\n",
       " 'Rio Verde Energia S.A.': 15,\n",
       " 'Rio Paranapanema Energia S.A.': 16,\n",
       " 'Rio Paraná Energia S.A.': 17,\n",
       " 'Rio Canoas Energia S.A.': 18,\n",
       " 'RETIRO BAIXO ENERGÉTICA S.A.': 19,\n",
       " 'Quanta Geração S.A.': 20,\n",
       " 'PRIMAVERA ENERGIA S.A.': 21,\n",
       " 'PAULISTA LAJEADO ENERGIA S/A': 22,\n",
       " 'PANTANAL ENERGÉTICA LTDA': 23,\n",
       " 'NORTE ENERGIA S/A': 24,\n",
       " 'MUXFELDT MARIN E CIA LTDA': 26,\n",
       " 'MONEL MONJOLINHO ENERGÉTICA S/A': 27,\n",
       " 'Mohini Empreendimentos e Participações Ltda.': 28,\n",
       " 'LIGHT ENERGIA S.A': 29,\n",
       " 'Lajes Energia S.A': 30,\n",
       " 'LAJEADO ENERGIA S/A': 31,\n",
       " 'Juruena Energia S.A': 33,\n",
       " 'JFG Energia S.A': 34,\n",
       " 'Jayaditya Empreendimentos e Participações Ltda': 35,\n",
       " 'ITAPEBI GERAÇÃO DE ENERGIA SA': 36,\n",
       " 'ITÁ ENERGÉTICA S/A': 37,\n",
       " 'ISAMU IKEDA ENERGIA S.A.': 38,\n",
       " 'INVESTCO SA': 39,\n",
       " 'Ijuí Energia S.A.': 40,\n",
       " 'Ibitu Energética S.A.': 41,\n",
       " 'HIDROPAN DISTRIBUIÇÃO DE ENERGIA S.A.': 42,\n",
       " 'HIDRELETRICA SANTA BRANCA S/A': 43,\n",
       " 'Global Energia Elétrica S.A': 44,\n",
       " 'GERACAO DE ENERGIA PILAO LTDA.': 45,\n",
       " 'GERAÇÃO CIII S/A': 46,\n",
       " 'GERAÇÃO CÉU AZUL S.A.': 47,\n",
       " 'Furnas-Centrais Elétricas S.A.': 48,\n",
       " 'Foz do Rio Claro Energia S.A.': 50,\n",
       " 'Foz do Chapecó Energia S.A.': 51,\n",
       " 'FORÇA E LUZ CORONEL VIVIDA LTDA': 52,\n",
       " 'Ferreira Gomes Energia S.A.': 53,\n",
       " 'F.D.A. GERAÇÃO DE ENERGIA ELÉTRICA S.A.': 54}"
      ]
     },
     "execution_count": 14,
     "metadata": {},
     "output_type": "execute_result"
    }
   ],
   "source": [
    "empresas"
   ]
  },
  {
   "cell_type": "code",
   "execution_count": 15,
   "id": "6e9ccaed-607d-4cfe-bf35-ce39b41ca1e8",
   "metadata": {},
   "outputs": [
    {
     "data": {
      "text/plain": [
       "bs4.element.Tag"
      ]
     },
     "execution_count": 15,
     "metadata": {},
     "output_type": "execute_result"
    }
   ],
   "source": [
    "type(tbs[3*empresas['São Roque Energética S.A.']+2])"
   ]
  },
  {
   "cell_type": "code",
   "execution_count": 16,
   "id": "d53d24c7-663a-4395-9652-776d6a7098c0",
   "metadata": {},
   "outputs": [],
   "source": [
    "with open('test.html', 'w') as f:\n",
    "    f.write(str(tbs[3*empresas['ZONA DA MATA GERAÇÃO S/A']+2]))"
   ]
  },
  {
   "cell_type": "code",
   "execution_count": 17,
   "id": "3ba759d5-30a8-42e7-8bc2-58a3c67d26b2",
   "metadata": {},
   "outputs": [],
   "source": [
    "with open('test.html', 'r') as f:\n",
    "    dfs = pd.read_html(f.read(),decimal=\",\", thousands=\".\")"
   ]
  },
  {
   "cell_type": "code",
   "execution_count": null,
   "id": "74a5535b-e614-476d-8da2-6f8b844d247d",
   "metadata": {},
   "outputs": [],
   "source": []
  },
  {
   "cell_type": "code",
   "execution_count": 18,
   "id": "7c62a2af-2ec2-49f3-8b7b-78af640dfaeb",
   "metadata": {},
   "outputs": [
    {
     "data": {
      "text/html": [
       "<div>\n",
       "<style scoped>\n",
       "    .dataframe tbody tr th:only-of-type {\n",
       "        vertical-align: middle;\n",
       "    }\n",
       "\n",
       "    .dataframe tbody tr th {\n",
       "        vertical-align: top;\n",
       "    }\n",
       "\n",
       "    .dataframe thead th {\n",
       "        text-align: right;\n",
       "    }\n",
       "</style>\n",
       "<table border=\"1\" class=\"dataframe\">\n",
       "  <thead>\n",
       "    <tr style=\"text-align: right;\">\n",
       "      <th></th>\n",
       "      <th>Conta</th>\n",
       "      <th>Descrição</th>\n",
       "      <th>Saldo Anterior (R$)</th>\n",
       "      <th>Débito (R$)</th>\n",
       "      <th>Crédito (R$)</th>\n",
       "      <th>Variação (R$)</th>\n",
       "      <th>Variação (%)</th>\n",
       "      <th>Saldo (R$)</th>\n",
       "    </tr>\n",
       "  </thead>\n",
       "  <tbody>\n",
       "    <tr>\n",
       "      <th>1</th>\n",
       "      <td>1</td>\n",
       "      <td>ATIVO</td>\n",
       "      <td>62807319.56</td>\n",
       "      <td>11554599.07</td>\n",
       "      <td>10500846.96</td>\n",
       "      <td>1053752.11</td>\n",
       "      <td>1.650</td>\n",
       "      <td>63861071.67</td>\n",
       "    </tr>\n",
       "    <tr>\n",
       "      <th>2</th>\n",
       "      <td>11</td>\n",
       "      <td>ATIVO CIRCULANTE</td>\n",
       "      <td>32645669.42</td>\n",
       "      <td>11526599.07</td>\n",
       "      <td>10372295.54</td>\n",
       "      <td>1154303.53</td>\n",
       "      <td>3.415</td>\n",
       "      <td>33799972.95</td>\n",
       "    </tr>\n",
       "    <tr>\n",
       "      <th>3</th>\n",
       "      <td>1101</td>\n",
       "      <td>CAIXA E EQUIVALENTES DE CAIXA</td>\n",
       "      <td>1207254.83</td>\n",
       "      <td>6228479.65</td>\n",
       "      <td>4570573.41</td>\n",
       "      <td>1657906.24</td>\n",
       "      <td>57.864</td>\n",
       "      <td>2865161.07</td>\n",
       "    </tr>\n",
       "    <tr>\n",
       "      <th>4</th>\n",
       "      <td>11011</td>\n",
       "      <td>Caixa</td>\n",
       "      <td>49565.21</td>\n",
       "      <td>3622494.07</td>\n",
       "      <td>3649679.86</td>\n",
       "      <td>-27185.79</td>\n",
       "      <td>-121.477</td>\n",
       "      <td>22379.42</td>\n",
       "    </tr>\n",
       "    <tr>\n",
       "      <th>5</th>\n",
       "      <td>1101102</td>\n",
       "      <td>Contas Bancárias à Vista</td>\n",
       "      <td>49565.21</td>\n",
       "      <td>3622494.07</td>\n",
       "      <td>3649679.86</td>\n",
       "      <td>-27185.79</td>\n",
       "      <td>-121.477</td>\n",
       "      <td>22379.42</td>\n",
       "    </tr>\n",
       "    <tr>\n",
       "      <th>...</th>\n",
       "      <td>...</td>\n",
       "      <td>...</td>\n",
       "      <td>...</td>\n",
       "      <td>...</td>\n",
       "      <td>...</td>\n",
       "      <td>...</td>\n",
       "      <td>...</td>\n",
       "      <td>...</td>\n",
       "    </tr>\n",
       "    <tr>\n",
       "      <th>194</th>\n",
       "      <td>75</td>\n",
       "      <td>IMPOSTO DE RENDA E CONTRIBUIÇÃO SOCIAL</td>\n",
       "      <td>836473.34</td>\n",
       "      <td>73284.66</td>\n",
       "      <td>0.00</td>\n",
       "      <td>73284.66</td>\n",
       "      <td>100.000</td>\n",
       "      <td>73284.66</td>\n",
       "    </tr>\n",
       "    <tr>\n",
       "      <th>195</th>\n",
       "      <td>7501</td>\n",
       "      <td>IMPOSTO DE RENDA E CONTRIBUIÇÃO SOCIAL</td>\n",
       "      <td>836473.34</td>\n",
       "      <td>73284.66</td>\n",
       "      <td>0.00</td>\n",
       "      <td>73284.66</td>\n",
       "      <td>100.000</td>\n",
       "      <td>73284.66</td>\n",
       "    </tr>\n",
       "    <tr>\n",
       "      <th>196</th>\n",
       "      <td>75011</td>\n",
       "      <td>Geração</td>\n",
       "      <td>836473.34</td>\n",
       "      <td>73284.66</td>\n",
       "      <td>0.00</td>\n",
       "      <td>73284.66</td>\n",
       "      <td>100.000</td>\n",
       "      <td>73284.66</td>\n",
       "    </tr>\n",
       "    <tr>\n",
       "      <th>197</th>\n",
       "      <td>7501101</td>\n",
       "      <td>(-) Contribuição Social Corrente</td>\n",
       "      <td>299239.34</td>\n",
       "      <td>25472.11</td>\n",
       "      <td>0.00</td>\n",
       "      <td>25472.11</td>\n",
       "      <td>100.000</td>\n",
       "      <td>25472.11</td>\n",
       "    </tr>\n",
       "    <tr>\n",
       "      <th>198</th>\n",
       "      <td>7501102</td>\n",
       "      <td>(-) Imposto de Renda Corrente</td>\n",
       "      <td>537234.00</td>\n",
       "      <td>47812.55</td>\n",
       "      <td>0.00</td>\n",
       "      <td>47812.55</td>\n",
       "      <td>100.000</td>\n",
       "      <td>47812.55</td>\n",
       "    </tr>\n",
       "  </tbody>\n",
       "</table>\n",
       "<p>198 rows × 8 columns</p>\n",
       "</div>"
      ],
      "text/plain": [
       "0      Conta                               Descrição Saldo Anterior (R$)  \\\n",
       "1          1                                   ATIVO         62807319.56   \n",
       "2         11                        ATIVO CIRCULANTE         32645669.42   \n",
       "3       1101           CAIXA E EQUIVALENTES DE CAIXA          1207254.83   \n",
       "4      11011                                   Caixa            49565.21   \n",
       "5    1101102                Contas Bancárias à Vista            49565.21   \n",
       "..       ...                                     ...                 ...   \n",
       "194       75  IMPOSTO DE RENDA E CONTRIBUIÇÃO SOCIAL           836473.34   \n",
       "195     7501  IMPOSTO DE RENDA E CONTRIBUIÇÃO SOCIAL           836473.34   \n",
       "196    75011                                 Geração           836473.34   \n",
       "197  7501101        (-) Contribuição Social Corrente           299239.34   \n",
       "198  7501102           (-) Imposto de Renda Corrente           537234.00   \n",
       "\n",
       "0    Débito (R$) Crédito (R$) Variação (R$) Variação (%)   Saldo (R$)  \n",
       "1    11554599.07  10500846.96    1053752.11        1.650  63861071.67  \n",
       "2    11526599.07  10372295.54    1154303.53        3.415  33799972.95  \n",
       "3     6228479.65   4570573.41    1657906.24       57.864   2865161.07  \n",
       "4     3622494.07   3649679.86     -27185.79     -121.477     22379.42  \n",
       "5     3622494.07   3649679.86     -27185.79     -121.477     22379.42  \n",
       "..           ...          ...           ...          ...          ...  \n",
       "194     73284.66         0.00      73284.66      100.000     73284.66  \n",
       "195     73284.66         0.00      73284.66      100.000     73284.66  \n",
       "196     73284.66         0.00      73284.66      100.000     73284.66  \n",
       "197     25472.11         0.00      25472.11      100.000     25472.11  \n",
       "198     47812.55         0.00      47812.55      100.000     47812.55  \n",
       "\n",
       "[198 rows x 8 columns]"
      ]
     },
     "execution_count": 18,
     "metadata": {},
     "output_type": "execute_result"
    }
   ],
   "source": [
    "d = dfs[0]\n",
    "d.columns = d.iloc[0]\n",
    "d = d.iloc[1:]\n",
    "d"
   ]
  },
  {
   "cell_type": "code",
   "execution_count": 19,
   "id": "87612c7f-1d8d-4580-bfdd-10b0aa69baa2",
   "metadata": {},
   "outputs": [
    {
     "name": "stderr",
     "output_type": "stream",
     "text": [
      "C:\\Users\\hlovi\\AppData\\Local\\Temp\\ipykernel_1484\\697325507.py:1: SettingWithCopyWarning: \n",
      "A value is trying to be set on a copy of a slice from a DataFrame.\n",
      "Try using .loc[row_indexer,col_indexer] = value instead\n",
      "\n",
      "See the caveats in the documentation: https://pandas.pydata.org/pandas-docs/stable/user_guide/indexing.html#returning-a-view-versus-a-copy\n",
      "  d['Mês'] = ['02/2020' for i in range(len(d))]\n"
     ]
    }
   ],
   "source": [
    "d['Mês'] = ['02/2020' for i in range(len(d))]"
   ]
  },
  {
   "cell_type": "code",
   "execution_count": 31,
   "id": "a3fec1a9-441a-4d17-bcd6-31dc21500c58",
   "metadata": {},
   "outputs": [
    {
     "data": {
      "text/plain": [
       "Index(['Conta', 'Descrição', 'Saldo Anterior (R$)', 'Débito (R$)',\n",
       "       'Crédito (R$)', 'Variação (R$)', 'Variação (%)', 'Saldo (R$)', 'Mês'],\n",
       "      dtype='object', name=0)"
      ]
     },
     "execution_count": 31,
     "metadata": {},
     "output_type": "execute_result"
    }
   ],
   "source": [
    "d.columns"
   ]
  },
  {
   "cell_type": "code",
   "execution_count": 21,
   "id": "afd96251-6415-48b8-a2c6-d68bd9132379",
   "metadata": {},
   "outputs": [],
   "source": [
    "d.to_excel('ZONA DA MATA GERAÇÃO SA_022020_022020.xlsx', index = False)"
   ]
  },
  {
   "cell_type": "code",
   "execution_count": 22,
   "id": "032482ac-68ae-438c-bbdc-1b2dd45d2818",
   "metadata": {},
   "outputs": [],
   "source": [
    "with open('RelatorioBMP_11052023_06.26.07_.html', 'w') as f:\n",
    "    f.write(file.read())"
   ]
  },
  {
   "cell_type": "code",
   "execution_count": 23,
   "id": "cee09031-0f88-4d0b-ac39-844ce8ac9480",
   "metadata": {},
   "outputs": [
    {
     "data": {
      "text/plain": [
       "True"
      ]
     },
     "execution_count": 23,
     "metadata": {},
     "output_type": "execute_result"
    }
   ],
   "source": [
    "webbrowser.open_new_tab('RelatorioBMP_11052023_06.26.07_.html')"
   ]
  },
  {
   "cell_type": "code",
   "execution_count": 24,
   "id": "e07af88d-f38b-4a21-9f26-f6dd924895ff",
   "metadata": {},
   "outputs": [
    {
     "data": {
      "text/plain": [
       "<codecs.StreamReaderWriter at 0x210f0e6a920>"
      ]
     },
     "execution_count": 24,
     "metadata": {},
     "output_type": "execute_result"
    }
   ],
   "source": [
    "file"
   ]
  },
  {
   "cell_type": "code",
   "execution_count": 71,
   "id": "edaf9b74-828f-4b73-be11-5f24d0060b05",
   "metadata": {},
   "outputs": [],
   "source": [
    "pd.options.mode.chained_assignment = None\n",
    "def make_csv(empresa, folder, save = None):\n",
    "    #makes a list of all xls files in the folder\n",
    "    files = os.listdir(folder)\n",
    "    files_xls = []\n",
    "    for el in files:\n",
    "        if el.split('.')[-1] == 'xls':\n",
    "            files_xls.append(el)\n",
    "    \n",
    "    data = pd.DataFrame(columns = ['Conta', 'Descrição', 'Saldo Anterior (R$)', 'Débito (R$)',\n",
    "       'Crédito (R$)', 'Variação (R$)', 'Variação (%)', 'Saldo (R$)', 'Mês'])\n",
    "\n",
    "    #iterates over all xsl files\n",
    "    for f in files_xls:\n",
    "        #open xls as html\n",
    "        file = codecs.open(f, \"r\", 'iso-8859-1')\n",
    "        soup = BeautifulSoup(file, 'html.parser')\n",
    "        #finds all table information\n",
    "        tbs = soup.find_all(\"table\")\n",
    "        #selects current month\n",
    "        month = str(tbs[1].find_all(\"td\")[5]).split('>')[1].split('<')[0]\n",
    "        \n",
    "        #list of companies so that, for each of them, we save only the last submission\n",
    "        empresas = {}\n",
    "        for i in range(0,int(len(tbs)/3)):\n",
    "            p_tag = tbs[3*i+1].find_all(\"td\")\n",
    "            html = str(p_tag[1])\n",
    "            empresas[(html.split('>')[1].split('<')[0])] = i\n",
    "        \n",
    "        #uses only the company wanted\n",
    "        if empresa in list(empresas.keys()):\n",
    "            dfs = pd.read_html(str(tbs[3*empresas[empresa]+2]),decimal=\",\", thousands=\".\")[0]\n",
    "            dfs.columns = dfs.iloc[0]\n",
    "            dfs = d.iloc[1:]\n",
    "            dfs['Mês'] = [month for i in range(len(dfs))]\n",
    "            data = pd.concat([data, dfs])\n",
    "    \n",
    "    if save != None:\n",
    "        data.to_excel(save, index = False)\n",
    "  \n",
    "    return data.reset_index(drop=True)    \n"
   ]
  },
  {
   "cell_type": "code",
   "execution_count": 72,
   "id": "d20d4a46-e19d-4e28-9e4b-bd4f879a1877",
   "metadata": {},
   "outputs": [],
   "source": [
    "dat = make_csv('São Roque Energética S.A.', os.getcwd(), save = None)"
   ]
  },
  {
   "cell_type": "code",
   "execution_count": 73,
   "id": "733af5ab-8dd5-4d45-8791-1325381f064a",
   "metadata": {},
   "outputs": [
    {
     "data": {
      "text/html": [
       "<div>\n",
       "<style scoped>\n",
       "    .dataframe tbody tr th:only-of-type {\n",
       "        vertical-align: middle;\n",
       "    }\n",
       "\n",
       "    .dataframe tbody tr th {\n",
       "        vertical-align: top;\n",
       "    }\n",
       "\n",
       "    .dataframe thead th {\n",
       "        text-align: right;\n",
       "    }\n",
       "</style>\n",
       "<table border=\"1\" class=\"dataframe\">\n",
       "  <thead>\n",
       "    <tr style=\"text-align: right;\">\n",
       "      <th></th>\n",
       "      <th>Conta</th>\n",
       "      <th>Descrição</th>\n",
       "      <th>Saldo Anterior (R$)</th>\n",
       "      <th>Débito (R$)</th>\n",
       "      <th>Crédito (R$)</th>\n",
       "      <th>Variação (R$)</th>\n",
       "      <th>Variação (%)</th>\n",
       "      <th>Saldo (R$)</th>\n",
       "      <th>Mês</th>\n",
       "    </tr>\n",
       "  </thead>\n",
       "  <tbody>\n",
       "    <tr>\n",
       "      <th>0</th>\n",
       "      <td>11</td>\n",
       "      <td>ATIVO CIRCULANTE</td>\n",
       "      <td>32645669.42</td>\n",
       "      <td>11526599.07</td>\n",
       "      <td>10372295.54</td>\n",
       "      <td>1154303.53</td>\n",
       "      <td>3.415</td>\n",
       "      <td>33799972.95</td>\n",
       "      <td>01/2020</td>\n",
       "    </tr>\n",
       "    <tr>\n",
       "      <th>1</th>\n",
       "      <td>1101</td>\n",
       "      <td>CAIXA E EQUIVALENTES DE CAIXA</td>\n",
       "      <td>1207254.83</td>\n",
       "      <td>6228479.65</td>\n",
       "      <td>4570573.41</td>\n",
       "      <td>1657906.24</td>\n",
       "      <td>57.864</td>\n",
       "      <td>2865161.07</td>\n",
       "      <td>01/2020</td>\n",
       "    </tr>\n",
       "    <tr>\n",
       "      <th>2</th>\n",
       "      <td>11011</td>\n",
       "      <td>Caixa</td>\n",
       "      <td>49565.21</td>\n",
       "      <td>3622494.07</td>\n",
       "      <td>3649679.86</td>\n",
       "      <td>-27185.79</td>\n",
       "      <td>-121.477</td>\n",
       "      <td>22379.42</td>\n",
       "      <td>01/2020</td>\n",
       "    </tr>\n",
       "    <tr>\n",
       "      <th>3</th>\n",
       "      <td>1101102</td>\n",
       "      <td>Contas Bancárias à Vista</td>\n",
       "      <td>49565.21</td>\n",
       "      <td>3622494.07</td>\n",
       "      <td>3649679.86</td>\n",
       "      <td>-27185.79</td>\n",
       "      <td>-121.477</td>\n",
       "      <td>22379.42</td>\n",
       "      <td>01/2020</td>\n",
       "    </tr>\n",
       "    <tr>\n",
       "      <th>4</th>\n",
       "      <td>11012</td>\n",
       "      <td>Equivalentes de Caixa</td>\n",
       "      <td>1157689.62</td>\n",
       "      <td>2605985.58</td>\n",
       "      <td>920893.55</td>\n",
       "      <td>1685092.03</td>\n",
       "      <td>59.276</td>\n",
       "      <td>2842781.65</td>\n",
       "      <td>01/2020</td>\n",
       "    </tr>\n",
       "    <tr>\n",
       "      <th>...</th>\n",
       "      <td>...</td>\n",
       "      <td>...</td>\n",
       "      <td>...</td>\n",
       "      <td>...</td>\n",
       "      <td>...</td>\n",
       "      <td>...</td>\n",
       "      <td>...</td>\n",
       "      <td>...</td>\n",
       "      <td>...</td>\n",
       "    </tr>\n",
       "    <tr>\n",
       "      <th>389</th>\n",
       "      <td>75</td>\n",
       "      <td>IMPOSTO DE RENDA E CONTRIBUIÇÃO SOCIAL</td>\n",
       "      <td>836473.34</td>\n",
       "      <td>73284.66</td>\n",
       "      <td>0.00</td>\n",
       "      <td>73284.66</td>\n",
       "      <td>100.000</td>\n",
       "      <td>73284.66</td>\n",
       "      <td>02/2020</td>\n",
       "    </tr>\n",
       "    <tr>\n",
       "      <th>390</th>\n",
       "      <td>7501</td>\n",
       "      <td>IMPOSTO DE RENDA E CONTRIBUIÇÃO SOCIAL</td>\n",
       "      <td>836473.34</td>\n",
       "      <td>73284.66</td>\n",
       "      <td>0.00</td>\n",
       "      <td>73284.66</td>\n",
       "      <td>100.000</td>\n",
       "      <td>73284.66</td>\n",
       "      <td>02/2020</td>\n",
       "    </tr>\n",
       "    <tr>\n",
       "      <th>391</th>\n",
       "      <td>75011</td>\n",
       "      <td>Geração</td>\n",
       "      <td>836473.34</td>\n",
       "      <td>73284.66</td>\n",
       "      <td>0.00</td>\n",
       "      <td>73284.66</td>\n",
       "      <td>100.000</td>\n",
       "      <td>73284.66</td>\n",
       "      <td>02/2020</td>\n",
       "    </tr>\n",
       "    <tr>\n",
       "      <th>392</th>\n",
       "      <td>7501101</td>\n",
       "      <td>(-) Contribuição Social Corrente</td>\n",
       "      <td>299239.34</td>\n",
       "      <td>25472.11</td>\n",
       "      <td>0.00</td>\n",
       "      <td>25472.11</td>\n",
       "      <td>100.000</td>\n",
       "      <td>25472.11</td>\n",
       "      <td>02/2020</td>\n",
       "    </tr>\n",
       "    <tr>\n",
       "      <th>393</th>\n",
       "      <td>7501102</td>\n",
       "      <td>(-) Imposto de Renda Corrente</td>\n",
       "      <td>537234.00</td>\n",
       "      <td>47812.55</td>\n",
       "      <td>0.00</td>\n",
       "      <td>47812.55</td>\n",
       "      <td>100.000</td>\n",
       "      <td>47812.55</td>\n",
       "      <td>02/2020</td>\n",
       "    </tr>\n",
       "  </tbody>\n",
       "</table>\n",
       "<p>394 rows × 9 columns</p>\n",
       "</div>"
      ],
      "text/plain": [
       "       Conta                               Descrição Saldo Anterior (R$)  \\\n",
       "0         11                        ATIVO CIRCULANTE         32645669.42   \n",
       "1       1101           CAIXA E EQUIVALENTES DE CAIXA          1207254.83   \n",
       "2      11011                                   Caixa            49565.21   \n",
       "3    1101102                Contas Bancárias à Vista            49565.21   \n",
       "4      11012                   Equivalentes de Caixa          1157689.62   \n",
       "..       ...                                     ...                 ...   \n",
       "389       75  IMPOSTO DE RENDA E CONTRIBUIÇÃO SOCIAL           836473.34   \n",
       "390     7501  IMPOSTO DE RENDA E CONTRIBUIÇÃO SOCIAL           836473.34   \n",
       "391    75011                                 Geração           836473.34   \n",
       "392  7501101        (-) Contribuição Social Corrente           299239.34   \n",
       "393  7501102           (-) Imposto de Renda Corrente           537234.00   \n",
       "\n",
       "     Débito (R$) Crédito (R$) Variação (R$) Variação (%)   Saldo (R$)      Mês  \n",
       "0    11526599.07  10372295.54    1154303.53        3.415  33799972.95  01/2020  \n",
       "1     6228479.65   4570573.41    1657906.24       57.864   2865161.07  01/2020  \n",
       "2     3622494.07   3649679.86     -27185.79     -121.477     22379.42  01/2020  \n",
       "3     3622494.07   3649679.86     -27185.79     -121.477     22379.42  01/2020  \n",
       "4     2605985.58    920893.55    1685092.03       59.276   2842781.65  01/2020  \n",
       "..           ...          ...           ...          ...          ...      ...  \n",
       "389     73284.66         0.00      73284.66      100.000     73284.66  02/2020  \n",
       "390     73284.66         0.00      73284.66      100.000     73284.66  02/2020  \n",
       "391     73284.66         0.00      73284.66      100.000     73284.66  02/2020  \n",
       "392     25472.11         0.00      25472.11      100.000     25472.11  02/2020  \n",
       "393     47812.55         0.00      47812.55      100.000     47812.55  02/2020  \n",
       "\n",
       "[394 rows x 9 columns]"
      ]
     },
     "execution_count": 73,
     "metadata": {},
     "output_type": "execute_result"
    }
   ],
   "source": [
    "dat"
   ]
  },
  {
   "cell_type": "code",
   "execution_count": null,
   "id": "24f3f1f3-491b-4be2-a48d-0c7474968730",
   "metadata": {},
   "outputs": [],
   "source": []
  }
 ],
 "metadata": {
  "kernelspec": {
   "display_name": "Python 3 (ipykernel)",
   "language": "python",
   "name": "python3"
  },
  "language_info": {
   "codemirror_mode": {
    "name": "ipython",
    "version": 3
   },
   "file_extension": ".py",
   "mimetype": "text/x-python",
   "name": "python",
   "nbconvert_exporter": "python",
   "pygments_lexer": "ipython3",
   "version": "3.10.9"
  }
 },
 "nbformat": 4,
 "nbformat_minor": 5
}
