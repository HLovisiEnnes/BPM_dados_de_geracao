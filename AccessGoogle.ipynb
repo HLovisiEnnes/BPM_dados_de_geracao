{
 "cells": [
  {
   "cell_type": "code",
   "execution_count": 2,
   "id": "5f2296c8-ab69-42e9-bca0-1a9266f3aa73",
   "metadata": {},
   "outputs": [],
   "source": [
    "from selenium import webdriver  \n",
    "driver = webdriver.Chrome()  "
   ]
  },
  {
   "cell_type": "code",
   "execution_count": 11,
   "id": "46b5313e-e685-4801-a35d-6ae5fc8298ef",
   "metadata": {},
   "outputs": [
    {
     "name": "stdout",
     "output_type": "stream",
     "text": [
      "sample test case started\n",
      "sample test case successfully completed\n"
     ]
    }
   ],
   "source": [
    "import time  \n",
    "from selenium.webdriver.common.keys import Keys  \n",
    "print(\"sample test case started\")  \n",
    "driver = webdriver.Chrome()  \n",
    "#driver=webdriver.firefox()  \n",
    "#driver=webdriver.ie()  \n",
    "#maximize the window size  \n",
    "driver.maximize_window()  \n",
    "#navigate to the url  \n",
    "driver.get(\"https://www.google.com/\")  \n",
    "#identify the Google search text box and enter the value  \n",
    "driver.find_element(\"name\",\"q\").send_keys(\"CERI\")  \n",
    "time.sleep(3)  \n",
    "#click on the Google search button  \n",
    "driver.find_element(\"name\",\"btnK\").send_keys(Keys.ENTER)  \n",
    "time.sleep(3)  \n",
    "#close the browser  \n",
    "driver.close()  \n",
    "print(\"sample test case successfully completed\")  "
   ]
  },
  {
   "cell_type": "code",
   "execution_count": null,
   "id": "996ae1b9-fe9f-4813-837a-16850301659a",
   "metadata": {},
   "outputs": [],
   "source": []
  }
 ],
 "metadata": {
  "kernelspec": {
   "display_name": "Python 3 (ipykernel)",
   "language": "python",
   "name": "python3"
  },
  "language_info": {
   "codemirror_mode": {
    "name": "ipython",
    "version": 3
   },
   "file_extension": ".py",
   "mimetype": "text/x-python",
   "name": "python",
   "nbconvert_exporter": "python",
   "pygments_lexer": "ipython3",
   "version": "3.10.9"
  }
 },
 "nbformat": 4,
 "nbformat_minor": 5
}
